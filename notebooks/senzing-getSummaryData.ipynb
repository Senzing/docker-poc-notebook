{
 "cells": [
  {
   "cell_type": "markdown",
   "metadata": {},
   "source": [
    "# Summary Data\n",
    "\n",
    "The `getSummaryData()` and `getSummaryDataDirect()` methods obtain general summary data about your current audit session."
   ]
  },
  {
   "cell_type": "code",
   "execution_count": null,
   "metadata": {},
   "outputs": [],
   "source": [
    "import os\n",
    "import sys\n",
    "import json"
   ]
  },
  {
   "cell_type": "markdown",
   "metadata": {},
   "source": [
    "## G2Audit\n",
    "\n",
    "The G2Audit API allows you to pull data reporting data back on how one data source is related to another.\n",
    "Once you are done loading one or more data sources,\n",
    "use this API to query information that can be useful for reporting, browsing, or auditing results."
   ]
  },
  {
   "cell_type": "code",
   "execution_count": null,
   "metadata": {},
   "outputs": [],
   "source": [
    "from G2Audit import G2Audit"
   ]
  },
  {
   "cell_type": "markdown",
   "metadata": {},
   "source": [
    "## Initialize variables\n",
    "\n",
    "Create variables to be used as `getSummaryData()` parameters."
   ]
  },
  {
   "cell_type": "code",
   "execution_count": null,
   "metadata": {},
   "outputs": [],
   "source": [
    "module_name = 'pyG2AuditForGetSummary'\n",
    "senzing_directory = os.environ.get(\"SENZING_DIR\", \"/opt/senzing\")\n",
    "senzing_python_directory = \"{0}/g2/python\".format(senzing_directory)\n",
    "g2module_ini_pathname = \"{0}/G2Module.ini\".format(senzing_python_directory)"
   ]
  },
  {
   "cell_type": "markdown",
   "metadata": {},
   "source": [
    "## System path\n",
    "\n",
    "Update system path."
   ]
  },
  {
   "cell_type": "code",
   "execution_count": null,
   "metadata": {},
   "outputs": [],
   "source": [
    "sys.path.append(senzing_python_directory)"
   ]
  },
  {
   "cell_type": "markdown",
   "metadata": {},
   "source": [
    "## Initialization\n",
    "\n",
    "To start using Senzing G2Audit, create and initialize an instance.\n",
    "This should be done once per process.\n",
    "The `init()` method accepts the following parameters:\n",
    "\n",
    "- **module_name:** A short name given to this instance of the G2 Module.\n",
    "- **g2module_ini_pathname:** A fully qualified path to the G2 engine INI file (often /opt/senzing/g2/python/G2Module.ini)\n",
    "\n",
    "Calling `init()` will return \"0\" upon success."
   ]
  },
  {
   "cell_type": "code",
   "execution_count": null,
   "metadata": {},
   "outputs": [],
   "source": [
    "g2_audit = G2Audit()\n",
    "g2_audit.init(module_name, g2module_ini_pathname)"
   ]
  },
  {
   "cell_type": "markdown",
   "metadata": {},
   "source": [
    "## openSession()\n",
    "\n",
    "Create a new session."
   ]
  },
  {
   "cell_type": "code",
   "execution_count": null,
   "metadata": {},
   "outputs": [],
   "source": [
    "g2_audit_session = g2_audit.openSession()"
   ]
  },
  {
   "cell_type": "markdown",
   "metadata": {},
   "source": [
    "## getSummaryData()\n",
    "\n",
    "Call G2Audit's `getSummaryData()` method and pretty-print results.\n",
    "\n",
    "The `getSummaryData()` method accepts the following parameters:\n",
    "\n",
    "- **g2_audit_session:** A long integer representing a previously-created G2Audit object.\n",
    "- **response_list:** A memory buffer for returning the response document; if an error occurred, an error response is stored here."
   ]
  },
  {
   "cell_type": "code",
   "execution_count": null,
   "metadata": {},
   "outputs": [],
   "source": [
    "response_list = []\n",
    "result = g2_audit.getSummaryData(g2_audit_session, response_list)\n",
    "\n",
    "response_string = \"\".join(response_list)\n",
    "response_dictionary = json.loads(response_string)\n",
    "response = json.dumps(response_dictionary, sort_keys=True, indent=4)\n",
    "print(\"Result: {0}\\n{1}\".format(result, response))"
   ]
  },
  {
   "cell_type": "markdown",
   "metadata": {},
   "source": [
    "## closeSession()"
   ]
  },
  {
   "cell_type": "code",
   "execution_count": null,
   "metadata": {},
   "outputs": [],
   "source": [
    "g2_audit.closeSession(g2_audit_session)"
   ]
  },
  {
   "cell_type": "markdown",
   "metadata": {},
   "source": [
    "## getSummaryDataDirect()\n",
    "\n",
    "Call G2Audit's `getSummaryDataDirect()` method and pretty-print results.\n",
    "\n",
    "The `getSummaryDataDirect()` method accepts the following parameters:\n",
    "\n",
    "- **response_list:** A memory buffer for returning the response document; if an error occurred, an error response is stored here."
   ]
  },
  {
   "cell_type": "code",
   "execution_count": null,
   "metadata": {},
   "outputs": [],
   "source": [
    "response_list = []\n",
    "result = g2_audit.getSummaryDataDirect(response_list)\n",
    "\n",
    "response_string = \"\".join(response_list)\n",
    "response_dictionary = json.loads(response_string)\n",
    "response = json.dumps(response_dictionary, sort_keys=True, indent=4)\n",
    "print(\"Result: {0}\\n{1}\".format(result, response))"
   ]
  }
 ],
 "metadata": {
  "kernelspec": {
   "display_name": "Python 3",
   "language": "python",
   "name": "python3"
  },
  "language_info": {
   "codemirror_mode": {
    "name": "ipython",
    "version": 3
   },
   "file_extension": ".py",
   "mimetype": "text/x-python",
   "name": "python",
   "nbconvert_exporter": "python",
   "pygments_lexer": "ipython3",
   "version": "3.7.1"
  }
 },
 "nbformat": 4,
 "nbformat_minor": 2
}
